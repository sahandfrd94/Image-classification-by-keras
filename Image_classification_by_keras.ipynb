{
  "nbformat": 4,
  "nbformat_minor": 0,
  "metadata": {
    "colab": {
      "provenance": [],
      "authorship_tag": "ABX9TyNqpLNP8d8D4Imx8lTYJdY/",
      "include_colab_link": true
    },
    "kernelspec": {
      "name": "python3",
      "display_name": "Python 3"
    },
    "language_info": {
      "name": "python"
    }
  },
  "cells": [
    {
      "cell_type": "markdown",
      "metadata": {
        "id": "view-in-github",
        "colab_type": "text"
      },
      "source": [
        "<a href=\"https://colab.research.google.com/github/sahandfrd94/Image-classification-by-keras/blob/main/Image_classification_by_keras.ipynb\" target=\"_parent\"><img src=\"https://colab.research.google.com/assets/colab-badge.svg\" alt=\"Open In Colab\"/></a>"
      ]
    },
    {
      "cell_type": "markdown",
      "source": [
        "#Import dataset"
      ],
      "metadata": {
        "id": "l-d3qNGd7fbR"
      }
    },
    {
      "cell_type": "code",
      "execution_count": 2,
      "metadata": {
        "id": "P0kgsChT1iQz",
        "colab": {
          "base_uri": "https://localhost:8080/"
        },
        "outputId": "d8555490-f235-4c4a-ff75-f495336a4540"
      },
      "outputs": [
        {
          "output_type": "stream",
          "name": "stdout",
          "text": [
            "--2024-02-01 23:05:47--  https://download.microsoft.com/download/3/E/1/3E1C3F21-ECDB-4869-8368-6DEBA77B919F/kagglecatsanddogs_5340.zip\n",
            "Resolving download.microsoft.com (download.microsoft.com)... 72.246.252.244, 2600:1408:ec00:889::317f, 2600:1408:ec00:887::317f\n",
            "Connecting to download.microsoft.com (download.microsoft.com)|72.246.252.244|:443... connected.\n",
            "HTTP request sent, awaiting response... 200 OK\n",
            "Length: 824887076 (787M) [application/octet-stream]\n",
            "Saving to: ‘kagglecatsanddogs_5340.zip’\n",
            "\n",
            "kagglecatsanddogs_5 100%[===================>] 786.67M   135MB/s    in 7.9s    \n",
            "\n",
            "2024-02-01 23:05:55 (100 MB/s) - ‘kagglecatsanddogs_5340.zip’ saved [824887076/824887076]\n",
            "\n"
          ]
        }
      ],
      "source": [
        "!wget https://download.microsoft.com/download/3/E/1/3E1C3F21-ECDB-4869-8368-6DEBA77B919F/kagglecatsanddogs_5340.zip\n"
      ]
    },
    {
      "cell_type": "code",
      "source": [
        "! unzip -qx /content/kagglecatsanddogs_5340.zip"
      ],
      "metadata": {
        "id": "-GTW1yML7Eem"
      },
      "execution_count": 3,
      "outputs": []
    },
    {
      "cell_type": "code",
      "source": [],
      "metadata": {
        "id": "xQc8ekzq7Z02"
      },
      "execution_count": null,
      "outputs": []
    }
  ]
}
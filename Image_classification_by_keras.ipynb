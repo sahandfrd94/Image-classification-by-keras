{
  "nbformat": 4,
  "nbformat_minor": 0,
  "metadata": {
    "colab": {
      "provenance": [],
      "gpuType": "T4",
      "authorship_tag": "ABX9TyP7ZOmxvm/xj3SM6oCsG3XR",
      "include_colab_link": true
    },
    "kernelspec": {
      "name": "python3",
      "display_name": "Python 3"
    },
    "language_info": {
      "name": "python"
    },
    "widgets": {
      "application/vnd.jupyter.widget-state+json": {
        "78a1ec79def04d959fa3916d8ec4f2b4": {
          "model_module": "@jupyter-widgets/controls",
          "model_name": "HBoxModel",
          "model_module_version": "1.5.0",
          "state": {
            "_dom_classes": [],
            "_model_module": "@jupyter-widgets/controls",
            "_model_module_version": "1.5.0",
            "_model_name": "HBoxModel",
            "_view_count": null,
            "_view_module": "@jupyter-widgets/controls",
            "_view_module_version": "1.5.0",
            "_view_name": "HBoxView",
            "box_style": "",
            "children": [
              "IPY_MODEL_2622fd8fb1f14a25998c50cd36e57359",
              "IPY_MODEL_4445a235ae92452eaafcc75d569eafd0",
              "IPY_MODEL_5fcc3da14b0342929c02c00e9b5f6a68"
            ],
            "layout": "IPY_MODEL_4f304f1026054618add65b3aaedef150"
          }
        },
        "2622fd8fb1f14a25998c50cd36e57359": {
          "model_module": "@jupyter-widgets/controls",
          "model_name": "HTMLModel",
          "model_module_version": "1.5.0",
          "state": {
            "_dom_classes": [],
            "_model_module": "@jupyter-widgets/controls",
            "_model_module_version": "1.5.0",
            "_model_name": "HTMLModel",
            "_view_count": null,
            "_view_module": "@jupyter-widgets/controls",
            "_view_module_version": "1.5.0",
            "_view_name": "HTMLView",
            "description": "",
            "description_tooltip": null,
            "layout": "IPY_MODEL_b92b0c8b605c4bf9bef570e8eaae8d61",
            "placeholder": "​",
            "style": "IPY_MODEL_453d21c4c5d545fa964de5e590949ace",
            "value": "100%"
          }
        },
        "4445a235ae92452eaafcc75d569eafd0": {
          "model_module": "@jupyter-widgets/controls",
          "model_name": "FloatProgressModel",
          "model_module_version": "1.5.0",
          "state": {
            "_dom_classes": [],
            "_model_module": "@jupyter-widgets/controls",
            "_model_module_version": "1.5.0",
            "_model_name": "FloatProgressModel",
            "_view_count": null,
            "_view_module": "@jupyter-widgets/controls",
            "_view_module_version": "1.5.0",
            "_view_name": "ProgressView",
            "bar_style": "success",
            "description": "",
            "description_tooltip": null,
            "layout": "IPY_MODEL_470e6a99b29c4430a9d974dc05675511",
            "max": 25002,
            "min": 0,
            "orientation": "horizontal",
            "style": "IPY_MODEL_c10f3934e99c4d24a4f838892f630327",
            "value": 25002
          }
        },
        "5fcc3da14b0342929c02c00e9b5f6a68": {
          "model_module": "@jupyter-widgets/controls",
          "model_name": "HTMLModel",
          "model_module_version": "1.5.0",
          "state": {
            "_dom_classes": [],
            "_model_module": "@jupyter-widgets/controls",
            "_model_module_version": "1.5.0",
            "_model_name": "HTMLModel",
            "_view_count": null,
            "_view_module": "@jupyter-widgets/controls",
            "_view_module_version": "1.5.0",
            "_view_name": "HTMLView",
            "description": "",
            "description_tooltip": null,
            "layout": "IPY_MODEL_5b8a7b3fff47461d970c5fc2a0edf0a7",
            "placeholder": "​",
            "style": "IPY_MODEL_f23deaa08db44693a8750303415011aa",
            "value": " 25002/25002 [00:00&lt;00:00, 115264.28it/s]"
          }
        },
        "4f304f1026054618add65b3aaedef150": {
          "model_module": "@jupyter-widgets/base",
          "model_name": "LayoutModel",
          "model_module_version": "1.2.0",
          "state": {
            "_model_module": "@jupyter-widgets/base",
            "_model_module_version": "1.2.0",
            "_model_name": "LayoutModel",
            "_view_count": null,
            "_view_module": "@jupyter-widgets/base",
            "_view_module_version": "1.2.0",
            "_view_name": "LayoutView",
            "align_content": null,
            "align_items": null,
            "align_self": null,
            "border": null,
            "bottom": null,
            "display": null,
            "flex": null,
            "flex_flow": null,
            "grid_area": null,
            "grid_auto_columns": null,
            "grid_auto_flow": null,
            "grid_auto_rows": null,
            "grid_column": null,
            "grid_gap": null,
            "grid_row": null,
            "grid_template_areas": null,
            "grid_template_columns": null,
            "grid_template_rows": null,
            "height": null,
            "justify_content": null,
            "justify_items": null,
            "left": null,
            "margin": null,
            "max_height": null,
            "max_width": null,
            "min_height": null,
            "min_width": null,
            "object_fit": null,
            "object_position": null,
            "order": null,
            "overflow": null,
            "overflow_x": null,
            "overflow_y": null,
            "padding": null,
            "right": null,
            "top": null,
            "visibility": null,
            "width": null
          }
        },
        "b92b0c8b605c4bf9bef570e8eaae8d61": {
          "model_module": "@jupyter-widgets/base",
          "model_name": "LayoutModel",
          "model_module_version": "1.2.0",
          "state": {
            "_model_module": "@jupyter-widgets/base",
            "_model_module_version": "1.2.0",
            "_model_name": "LayoutModel",
            "_view_count": null,
            "_view_module": "@jupyter-widgets/base",
            "_view_module_version": "1.2.0",
            "_view_name": "LayoutView",
            "align_content": null,
            "align_items": null,
            "align_self": null,
            "border": null,
            "bottom": null,
            "display": null,
            "flex": null,
            "flex_flow": null,
            "grid_area": null,
            "grid_auto_columns": null,
            "grid_auto_flow": null,
            "grid_auto_rows": null,
            "grid_column": null,
            "grid_gap": null,
            "grid_row": null,
            "grid_template_areas": null,
            "grid_template_columns": null,
            "grid_template_rows": null,
            "height": null,
            "justify_content": null,
            "justify_items": null,
            "left": null,
            "margin": null,
            "max_height": null,
            "max_width": null,
            "min_height": null,
            "min_width": null,
            "object_fit": null,
            "object_position": null,
            "order": null,
            "overflow": null,
            "overflow_x": null,
            "overflow_y": null,
            "padding": null,
            "right": null,
            "top": null,
            "visibility": null,
            "width": null
          }
        },
        "453d21c4c5d545fa964de5e590949ace": {
          "model_module": "@jupyter-widgets/controls",
          "model_name": "DescriptionStyleModel",
          "model_module_version": "1.5.0",
          "state": {
            "_model_module": "@jupyter-widgets/controls",
            "_model_module_version": "1.5.0",
            "_model_name": "DescriptionStyleModel",
            "_view_count": null,
            "_view_module": "@jupyter-widgets/base",
            "_view_module_version": "1.2.0",
            "_view_name": "StyleView",
            "description_width": ""
          }
        },
        "470e6a99b29c4430a9d974dc05675511": {
          "model_module": "@jupyter-widgets/base",
          "model_name": "LayoutModel",
          "model_module_version": "1.2.0",
          "state": {
            "_model_module": "@jupyter-widgets/base",
            "_model_module_version": "1.2.0",
            "_model_name": "LayoutModel",
            "_view_count": null,
            "_view_module": "@jupyter-widgets/base",
            "_view_module_version": "1.2.0",
            "_view_name": "LayoutView",
            "align_content": null,
            "align_items": null,
            "align_self": null,
            "border": null,
            "bottom": null,
            "display": null,
            "flex": null,
            "flex_flow": null,
            "grid_area": null,
            "grid_auto_columns": null,
            "grid_auto_flow": null,
            "grid_auto_rows": null,
            "grid_column": null,
            "grid_gap": null,
            "grid_row": null,
            "grid_template_areas": null,
            "grid_template_columns": null,
            "grid_template_rows": null,
            "height": null,
            "justify_content": null,
            "justify_items": null,
            "left": null,
            "margin": null,
            "max_height": null,
            "max_width": null,
            "min_height": null,
            "min_width": null,
            "object_fit": null,
            "object_position": null,
            "order": null,
            "overflow": null,
            "overflow_x": null,
            "overflow_y": null,
            "padding": null,
            "right": null,
            "top": null,
            "visibility": null,
            "width": null
          }
        },
        "c10f3934e99c4d24a4f838892f630327": {
          "model_module": "@jupyter-widgets/controls",
          "model_name": "ProgressStyleModel",
          "model_module_version": "1.5.0",
          "state": {
            "_model_module": "@jupyter-widgets/controls",
            "_model_module_version": "1.5.0",
            "_model_name": "ProgressStyleModel",
            "_view_count": null,
            "_view_module": "@jupyter-widgets/base",
            "_view_module_version": "1.2.0",
            "_view_name": "StyleView",
            "bar_color": null,
            "description_width": ""
          }
        },
        "5b8a7b3fff47461d970c5fc2a0edf0a7": {
          "model_module": "@jupyter-widgets/base",
          "model_name": "LayoutModel",
          "model_module_version": "1.2.0",
          "state": {
            "_model_module": "@jupyter-widgets/base",
            "_model_module_version": "1.2.0",
            "_model_name": "LayoutModel",
            "_view_count": null,
            "_view_module": "@jupyter-widgets/base",
            "_view_module_version": "1.2.0",
            "_view_name": "LayoutView",
            "align_content": null,
            "align_items": null,
            "align_self": null,
            "border": null,
            "bottom": null,
            "display": null,
            "flex": null,
            "flex_flow": null,
            "grid_area": null,
            "grid_auto_columns": null,
            "grid_auto_flow": null,
            "grid_auto_rows": null,
            "grid_column": null,
            "grid_gap": null,
            "grid_row": null,
            "grid_template_areas": null,
            "grid_template_columns": null,
            "grid_template_rows": null,
            "height": null,
            "justify_content": null,
            "justify_items": null,
            "left": null,
            "margin": null,
            "max_height": null,
            "max_width": null,
            "min_height": null,
            "min_width": null,
            "object_fit": null,
            "object_position": null,
            "order": null,
            "overflow": null,
            "overflow_x": null,
            "overflow_y": null,
            "padding": null,
            "right": null,
            "top": null,
            "visibility": null,
            "width": null
          }
        },
        "f23deaa08db44693a8750303415011aa": {
          "model_module": "@jupyter-widgets/controls",
          "model_name": "DescriptionStyleModel",
          "model_module_version": "1.5.0",
          "state": {
            "_model_module": "@jupyter-widgets/controls",
            "_model_module_version": "1.5.0",
            "_model_name": "DescriptionStyleModel",
            "_view_count": null,
            "_view_module": "@jupyter-widgets/base",
            "_view_module_version": "1.2.0",
            "_view_name": "StyleView",
            "description_width": ""
          }
        },
        "487d83e90cab477a978c79e8fe134d06": {
          "model_module": "@jupyter-widgets/controls",
          "model_name": "HBoxModel",
          "model_module_version": "1.5.0",
          "state": {
            "_dom_classes": [],
            "_model_module": "@jupyter-widgets/controls",
            "_model_module_version": "1.5.0",
            "_model_name": "HBoxModel",
            "_view_count": null,
            "_view_module": "@jupyter-widgets/controls",
            "_view_module_version": "1.5.0",
            "_view_name": "HBoxView",
            "box_style": "",
            "children": [
              "IPY_MODEL_783f7dda423742b8802b70c5be567f00",
              "IPY_MODEL_417a05de185245bda5a2f1abade47297",
              "IPY_MODEL_282a065db27e48afadbdad8dc5881d9b"
            ],
            "layout": "IPY_MODEL_e6833861b3ab443e9c9b378561319e6b"
          }
        },
        "783f7dda423742b8802b70c5be567f00": {
          "model_module": "@jupyter-widgets/controls",
          "model_name": "HTMLModel",
          "model_module_version": "1.5.0",
          "state": {
            "_dom_classes": [],
            "_model_module": "@jupyter-widgets/controls",
            "_model_module_version": "1.5.0",
            "_model_name": "HTMLModel",
            "_view_count": null,
            "_view_module": "@jupyter-widgets/controls",
            "_view_module_version": "1.5.0",
            "_view_name": "HTMLView",
            "description": "",
            "description_tooltip": null,
            "layout": "IPY_MODEL_e3e5797bbc024616814f98431c3cb4a1",
            "placeholder": "​",
            "style": "IPY_MODEL_8c081cf324e440559e0e3ab30829a6bc",
            "value": "100%"
          }
        },
        "417a05de185245bda5a2f1abade47297": {
          "model_module": "@jupyter-widgets/controls",
          "model_name": "FloatProgressModel",
          "model_module_version": "1.5.0",
          "state": {
            "_dom_classes": [],
            "_model_module": "@jupyter-widgets/controls",
            "_model_module_version": "1.5.0",
            "_model_name": "FloatProgressModel",
            "_view_count": null,
            "_view_module": "@jupyter-widgets/controls",
            "_view_module_version": "1.5.0",
            "_view_name": "ProgressView",
            "bar_style": "success",
            "description": "",
            "description_tooltip": null,
            "layout": "IPY_MODEL_f4c530e068674e0f953f1d7faa72edd2",
            "max": 10000,
            "min": 0,
            "orientation": "horizontal",
            "style": "IPY_MODEL_7c3c16920a0e46a294c739fad23cc401",
            "value": 10000
          }
        },
        "282a065db27e48afadbdad8dc5881d9b": {
          "model_module": "@jupyter-widgets/controls",
          "model_name": "HTMLModel",
          "model_module_version": "1.5.0",
          "state": {
            "_dom_classes": [],
            "_model_module": "@jupyter-widgets/controls",
            "_model_module_version": "1.5.0",
            "_model_name": "HTMLModel",
            "_view_count": null,
            "_view_module": "@jupyter-widgets/controls",
            "_view_module_version": "1.5.0",
            "_view_name": "HTMLView",
            "description": "",
            "description_tooltip": null,
            "layout": "IPY_MODEL_11ab4ca1da4c40a3a47b05dacb7fddc7",
            "placeholder": "​",
            "style": "IPY_MODEL_ac3dc85bba864799894b0fc6ce7ebff0",
            "value": " 10000/10000 [00:01&lt;00:00, 6088.58it/s]"
          }
        },
        "e6833861b3ab443e9c9b378561319e6b": {
          "model_module": "@jupyter-widgets/base",
          "model_name": "LayoutModel",
          "model_module_version": "1.2.0",
          "state": {
            "_model_module": "@jupyter-widgets/base",
            "_model_module_version": "1.2.0",
            "_model_name": "LayoutModel",
            "_view_count": null,
            "_view_module": "@jupyter-widgets/base",
            "_view_module_version": "1.2.0",
            "_view_name": "LayoutView",
            "align_content": null,
            "align_items": null,
            "align_self": null,
            "border": null,
            "bottom": null,
            "display": null,
            "flex": null,
            "flex_flow": null,
            "grid_area": null,
            "grid_auto_columns": null,
            "grid_auto_flow": null,
            "grid_auto_rows": null,
            "grid_column": null,
            "grid_gap": null,
            "grid_row": null,
            "grid_template_areas": null,
            "grid_template_columns": null,
            "grid_template_rows": null,
            "height": null,
            "justify_content": null,
            "justify_items": null,
            "left": null,
            "margin": null,
            "max_height": null,
            "max_width": null,
            "min_height": null,
            "min_width": null,
            "object_fit": null,
            "object_position": null,
            "order": null,
            "overflow": null,
            "overflow_x": null,
            "overflow_y": null,
            "padding": null,
            "right": null,
            "top": null,
            "visibility": null,
            "width": null
          }
        },
        "e3e5797bbc024616814f98431c3cb4a1": {
          "model_module": "@jupyter-widgets/base",
          "model_name": "LayoutModel",
          "model_module_version": "1.2.0",
          "state": {
            "_model_module": "@jupyter-widgets/base",
            "_model_module_version": "1.2.0",
            "_model_name": "LayoutModel",
            "_view_count": null,
            "_view_module": "@jupyter-widgets/base",
            "_view_module_version": "1.2.0",
            "_view_name": "LayoutView",
            "align_content": null,
            "align_items": null,
            "align_self": null,
            "border": null,
            "bottom": null,
            "display": null,
            "flex": null,
            "flex_flow": null,
            "grid_area": null,
            "grid_auto_columns": null,
            "grid_auto_flow": null,
            "grid_auto_rows": null,
            "grid_column": null,
            "grid_gap": null,
            "grid_row": null,
            "grid_template_areas": null,
            "grid_template_columns": null,
            "grid_template_rows": null,
            "height": null,
            "justify_content": null,
            "justify_items": null,
            "left": null,
            "margin": null,
            "max_height": null,
            "max_width": null,
            "min_height": null,
            "min_width": null,
            "object_fit": null,
            "object_position": null,
            "order": null,
            "overflow": null,
            "overflow_x": null,
            "overflow_y": null,
            "padding": null,
            "right": null,
            "top": null,
            "visibility": null,
            "width": null
          }
        },
        "8c081cf324e440559e0e3ab30829a6bc": {
          "model_module": "@jupyter-widgets/controls",
          "model_name": "DescriptionStyleModel",
          "model_module_version": "1.5.0",
          "state": {
            "_model_module": "@jupyter-widgets/controls",
            "_model_module_version": "1.5.0",
            "_model_name": "DescriptionStyleModel",
            "_view_count": null,
            "_view_module": "@jupyter-widgets/base",
            "_view_module_version": "1.2.0",
            "_view_name": "StyleView",
            "description_width": ""
          }
        },
        "f4c530e068674e0f953f1d7faa72edd2": {
          "model_module": "@jupyter-widgets/base",
          "model_name": "LayoutModel",
          "model_module_version": "1.2.0",
          "state": {
            "_model_module": "@jupyter-widgets/base",
            "_model_module_version": "1.2.0",
            "_model_name": "LayoutModel",
            "_view_count": null,
            "_view_module": "@jupyter-widgets/base",
            "_view_module_version": "1.2.0",
            "_view_name": "LayoutView",
            "align_content": null,
            "align_items": null,
            "align_self": null,
            "border": null,
            "bottom": null,
            "display": null,
            "flex": null,
            "flex_flow": null,
            "grid_area": null,
            "grid_auto_columns": null,
            "grid_auto_flow": null,
            "grid_auto_rows": null,
            "grid_column": null,
            "grid_gap": null,
            "grid_row": null,
            "grid_template_areas": null,
            "grid_template_columns": null,
            "grid_template_rows": null,
            "height": null,
            "justify_content": null,
            "justify_items": null,
            "left": null,
            "margin": null,
            "max_height": null,
            "max_width": null,
            "min_height": null,
            "min_width": null,
            "object_fit": null,
            "object_position": null,
            "order": null,
            "overflow": null,
            "overflow_x": null,
            "overflow_y": null,
            "padding": null,
            "right": null,
            "top": null,
            "visibility": null,
            "width": null
          }
        },
        "7c3c16920a0e46a294c739fad23cc401": {
          "model_module": "@jupyter-widgets/controls",
          "model_name": "ProgressStyleModel",
          "model_module_version": "1.5.0",
          "state": {
            "_model_module": "@jupyter-widgets/controls",
            "_model_module_version": "1.5.0",
            "_model_name": "ProgressStyleModel",
            "_view_count": null,
            "_view_module": "@jupyter-widgets/base",
            "_view_module_version": "1.2.0",
            "_view_name": "StyleView",
            "bar_color": null,
            "description_width": ""
          }
        },
        "11ab4ca1da4c40a3a47b05dacb7fddc7": {
          "model_module": "@jupyter-widgets/base",
          "model_name": "LayoutModel",
          "model_module_version": "1.2.0",
          "state": {
            "_model_module": "@jupyter-widgets/base",
            "_model_module_version": "1.2.0",
            "_model_name": "LayoutModel",
            "_view_count": null,
            "_view_module": "@jupyter-widgets/base",
            "_view_module_version": "1.2.0",
            "_view_name": "LayoutView",
            "align_content": null,
            "align_items": null,
            "align_self": null,
            "border": null,
            "bottom": null,
            "display": null,
            "flex": null,
            "flex_flow": null,
            "grid_area": null,
            "grid_auto_columns": null,
            "grid_auto_flow": null,
            "grid_auto_rows": null,
            "grid_column": null,
            "grid_gap": null,
            "grid_row": null,
            "grid_template_areas": null,
            "grid_template_columns": null,
            "grid_template_rows": null,
            "height": null,
            "justify_content": null,
            "justify_items": null,
            "left": null,
            "margin": null,
            "max_height": null,
            "max_width": null,
            "min_height": null,
            "min_width": null,
            "object_fit": null,
            "object_position": null,
            "order": null,
            "overflow": null,
            "overflow_x": null,
            "overflow_y": null,
            "padding": null,
            "right": null,
            "top": null,
            "visibility": null,
            "width": null
          }
        },
        "ac3dc85bba864799894b0fc6ce7ebff0": {
          "model_module": "@jupyter-widgets/controls",
          "model_name": "DescriptionStyleModel",
          "model_module_version": "1.5.0",
          "state": {
            "_model_module": "@jupyter-widgets/controls",
            "_model_module_version": "1.5.0",
            "_model_name": "DescriptionStyleModel",
            "_view_count": null,
            "_view_module": "@jupyter-widgets/base",
            "_view_module_version": "1.2.0",
            "_view_name": "StyleView",
            "description_width": ""
          }
        },
        "d1c4867e503f430ea0a8a04055690317": {
          "model_module": "@jupyter-widgets/controls",
          "model_name": "HBoxModel",
          "model_module_version": "1.5.0",
          "state": {
            "_dom_classes": [],
            "_model_module": "@jupyter-widgets/controls",
            "_model_module_version": "1.5.0",
            "_model_name": "HBoxModel",
            "_view_count": null,
            "_view_module": "@jupyter-widgets/controls",
            "_view_module_version": "1.5.0",
            "_view_name": "HBoxView",
            "box_style": "",
            "children": [
              "IPY_MODEL_4c29c7bfb93a463ca325f275f9654d65",
              "IPY_MODEL_95de72cd2e2f4466b0d1c0ea0706db21",
              "IPY_MODEL_b37aa1dccd60473db1e82c96e4d03568"
            ],
            "layout": "IPY_MODEL_fa10b0e334f64f99975e71819394c3ae"
          }
        },
        "4c29c7bfb93a463ca325f275f9654d65": {
          "model_module": "@jupyter-widgets/controls",
          "model_name": "HTMLModel",
          "model_module_version": "1.5.0",
          "state": {
            "_dom_classes": [],
            "_model_module": "@jupyter-widgets/controls",
            "_model_module_version": "1.5.0",
            "_model_name": "HTMLModel",
            "_view_count": null,
            "_view_module": "@jupyter-widgets/controls",
            "_view_module_version": "1.5.0",
            "_view_name": "HTMLView",
            "description": "",
            "description_tooltip": null,
            "layout": "IPY_MODEL_6ce4fba623704a9e9bea4556c331da65",
            "placeholder": "​",
            "style": "IPY_MODEL_4d67ce83c4f04ef3ad267abbbbc52d07",
            "value": "100%"
          }
        },
        "95de72cd2e2f4466b0d1c0ea0706db21": {
          "model_module": "@jupyter-widgets/controls",
          "model_name": "FloatProgressModel",
          "model_module_version": "1.5.0",
          "state": {
            "_dom_classes": [],
            "_model_module": "@jupyter-widgets/controls",
            "_model_module_version": "1.5.0",
            "_model_name": "FloatProgressModel",
            "_view_count": null,
            "_view_module": "@jupyter-widgets/controls",
            "_view_module_version": "1.5.0",
            "_view_name": "ProgressView",
            "bar_style": "success",
            "description": "",
            "description_tooltip": null,
            "layout": "IPY_MODEL_240bea02604c48c9a30527236abeb33f",
            "max": 10000,
            "min": 0,
            "orientation": "horizontal",
            "style": "IPY_MODEL_68bab52b2ba947d181ae156bd8711c38",
            "value": 10000
          }
        },
        "b37aa1dccd60473db1e82c96e4d03568": {
          "model_module": "@jupyter-widgets/controls",
          "model_name": "HTMLModel",
          "model_module_version": "1.5.0",
          "state": {
            "_dom_classes": [],
            "_model_module": "@jupyter-widgets/controls",
            "_model_module_version": "1.5.0",
            "_model_name": "HTMLModel",
            "_view_count": null,
            "_view_module": "@jupyter-widgets/controls",
            "_view_module_version": "1.5.0",
            "_view_name": "HTMLView",
            "description": "",
            "description_tooltip": null,
            "layout": "IPY_MODEL_51b5d598ac084d488a51440751478fe1",
            "placeholder": "​",
            "style": "IPY_MODEL_cb69f92341b349b69a6e6dbde4beef95",
            "value": " 10000/10000 [00:01&lt;00:00, 5640.23it/s]"
          }
        },
        "fa10b0e334f64f99975e71819394c3ae": {
          "model_module": "@jupyter-widgets/base",
          "model_name": "LayoutModel",
          "model_module_version": "1.2.0",
          "state": {
            "_model_module": "@jupyter-widgets/base",
            "_model_module_version": "1.2.0",
            "_model_name": "LayoutModel",
            "_view_count": null,
            "_view_module": "@jupyter-widgets/base",
            "_view_module_version": "1.2.0",
            "_view_name": "LayoutView",
            "align_content": null,
            "align_items": null,
            "align_self": null,
            "border": null,
            "bottom": null,
            "display": null,
            "flex": null,
            "flex_flow": null,
            "grid_area": null,
            "grid_auto_columns": null,
            "grid_auto_flow": null,
            "grid_auto_rows": null,
            "grid_column": null,
            "grid_gap": null,
            "grid_row": null,
            "grid_template_areas": null,
            "grid_template_columns": null,
            "grid_template_rows": null,
            "height": null,
            "justify_content": null,
            "justify_items": null,
            "left": null,
            "margin": null,
            "max_height": null,
            "max_width": null,
            "min_height": null,
            "min_width": null,
            "object_fit": null,
            "object_position": null,
            "order": null,
            "overflow": null,
            "overflow_x": null,
            "overflow_y": null,
            "padding": null,
            "right": null,
            "top": null,
            "visibility": null,
            "width": null
          }
        },
        "6ce4fba623704a9e9bea4556c331da65": {
          "model_module": "@jupyter-widgets/base",
          "model_name": "LayoutModel",
          "model_module_version": "1.2.0",
          "state": {
            "_model_module": "@jupyter-widgets/base",
            "_model_module_version": "1.2.0",
            "_model_name": "LayoutModel",
            "_view_count": null,
            "_view_module": "@jupyter-widgets/base",
            "_view_module_version": "1.2.0",
            "_view_name": "LayoutView",
            "align_content": null,
            "align_items": null,
            "align_self": null,
            "border": null,
            "bottom": null,
            "display": null,
            "flex": null,
            "flex_flow": null,
            "grid_area": null,
            "grid_auto_columns": null,
            "grid_auto_flow": null,
            "grid_auto_rows": null,
            "grid_column": null,
            "grid_gap": null,
            "grid_row": null,
            "grid_template_areas": null,
            "grid_template_columns": null,
            "grid_template_rows": null,
            "height": null,
            "justify_content": null,
            "justify_items": null,
            "left": null,
            "margin": null,
            "max_height": null,
            "max_width": null,
            "min_height": null,
            "min_width": null,
            "object_fit": null,
            "object_position": null,
            "order": null,
            "overflow": null,
            "overflow_x": null,
            "overflow_y": null,
            "padding": null,
            "right": null,
            "top": null,
            "visibility": null,
            "width": null
          }
        },
        "4d67ce83c4f04ef3ad267abbbbc52d07": {
          "model_module": "@jupyter-widgets/controls",
          "model_name": "DescriptionStyleModel",
          "model_module_version": "1.5.0",
          "state": {
            "_model_module": "@jupyter-widgets/controls",
            "_model_module_version": "1.5.0",
            "_model_name": "DescriptionStyleModel",
            "_view_count": null,
            "_view_module": "@jupyter-widgets/base",
            "_view_module_version": "1.2.0",
            "_view_name": "StyleView",
            "description_width": ""
          }
        },
        "240bea02604c48c9a30527236abeb33f": {
          "model_module": "@jupyter-widgets/base",
          "model_name": "LayoutModel",
          "model_module_version": "1.2.0",
          "state": {
            "_model_module": "@jupyter-widgets/base",
            "_model_module_version": "1.2.0",
            "_model_name": "LayoutModel",
            "_view_count": null,
            "_view_module": "@jupyter-widgets/base",
            "_view_module_version": "1.2.0",
            "_view_name": "LayoutView",
            "align_content": null,
            "align_items": null,
            "align_self": null,
            "border": null,
            "bottom": null,
            "display": null,
            "flex": null,
            "flex_flow": null,
            "grid_area": null,
            "grid_auto_columns": null,
            "grid_auto_flow": null,
            "grid_auto_rows": null,
            "grid_column": null,
            "grid_gap": null,
            "grid_row": null,
            "grid_template_areas": null,
            "grid_template_columns": null,
            "grid_template_rows": null,
            "height": null,
            "justify_content": null,
            "justify_items": null,
            "left": null,
            "margin": null,
            "max_height": null,
            "max_width": null,
            "min_height": null,
            "min_width": null,
            "object_fit": null,
            "object_position": null,
            "order": null,
            "overflow": null,
            "overflow_x": null,
            "overflow_y": null,
            "padding": null,
            "right": null,
            "top": null,
            "visibility": null,
            "width": null
          }
        },
        "68bab52b2ba947d181ae156bd8711c38": {
          "model_module": "@jupyter-widgets/controls",
          "model_name": "ProgressStyleModel",
          "model_module_version": "1.5.0",
          "state": {
            "_model_module": "@jupyter-widgets/controls",
            "_model_module_version": "1.5.0",
            "_model_name": "ProgressStyleModel",
            "_view_count": null,
            "_view_module": "@jupyter-widgets/base",
            "_view_module_version": "1.2.0",
            "_view_name": "StyleView",
            "bar_color": null,
            "description_width": ""
          }
        },
        "51b5d598ac084d488a51440751478fe1": {
          "model_module": "@jupyter-widgets/base",
          "model_name": "LayoutModel",
          "model_module_version": "1.2.0",
          "state": {
            "_model_module": "@jupyter-widgets/base",
            "_model_module_version": "1.2.0",
            "_model_name": "LayoutModel",
            "_view_count": null,
            "_view_module": "@jupyter-widgets/base",
            "_view_module_version": "1.2.0",
            "_view_name": "LayoutView",
            "align_content": null,
            "align_items": null,
            "align_self": null,
            "border": null,
            "bottom": null,
            "display": null,
            "flex": null,
            "flex_flow": null,
            "grid_area": null,
            "grid_auto_columns": null,
            "grid_auto_flow": null,
            "grid_auto_rows": null,
            "grid_column": null,
            "grid_gap": null,
            "grid_row": null,
            "grid_template_areas": null,
            "grid_template_columns": null,
            "grid_template_rows": null,
            "height": null,
            "justify_content": null,
            "justify_items": null,
            "left": null,
            "margin": null,
            "max_height": null,
            "max_width": null,
            "min_height": null,
            "min_width": null,
            "object_fit": null,
            "object_position": null,
            "order": null,
            "overflow": null,
            "overflow_x": null,
            "overflow_y": null,
            "padding": null,
            "right": null,
            "top": null,
            "visibility": null,
            "width": null
          }
        },
        "cb69f92341b349b69a6e6dbde4beef95": {
          "model_module": "@jupyter-widgets/controls",
          "model_name": "DescriptionStyleModel",
          "model_module_version": "1.5.0",
          "state": {
            "_model_module": "@jupyter-widgets/controls",
            "_model_module_version": "1.5.0",
            "_model_name": "DescriptionStyleModel",
            "_view_count": null,
            "_view_module": "@jupyter-widgets/base",
            "_view_module_version": "1.2.0",
            "_view_name": "StyleView",
            "description_width": ""
          }
        },
        "741e9a516ef6476ba0a4a81b1cf82316": {
          "model_module": "@jupyter-widgets/controls",
          "model_name": "HBoxModel",
          "model_module_version": "1.5.0",
          "state": {
            "_dom_classes": [],
            "_model_module": "@jupyter-widgets/controls",
            "_model_module_version": "1.5.0",
            "_model_name": "HBoxModel",
            "_view_count": null,
            "_view_module": "@jupyter-widgets/controls",
            "_view_module_version": "1.5.0",
            "_view_name": "HBoxView",
            "box_style": "",
            "children": [
              "IPY_MODEL_d921f3a76f774187bed2dac239d643c9",
              "IPY_MODEL_01dc3465938643429c7a9d09cea28816",
              "IPY_MODEL_aec2080319044746921cca70b32e2f70"
            ],
            "layout": "IPY_MODEL_c86c525ad3404a4cbe0167a77681407e"
          }
        },
        "d921f3a76f774187bed2dac239d643c9": {
          "model_module": "@jupyter-widgets/controls",
          "model_name": "HTMLModel",
          "model_module_version": "1.5.0",
          "state": {
            "_dom_classes": [],
            "_model_module": "@jupyter-widgets/controls",
            "_model_module_version": "1.5.0",
            "_model_name": "HTMLModel",
            "_view_count": null,
            "_view_module": "@jupyter-widgets/controls",
            "_view_module_version": "1.5.0",
            "_view_name": "HTMLView",
            "description": "",
            "description_tooltip": null,
            "layout": "IPY_MODEL_ec35245e9acc4a1eb2a388dca200dba0",
            "placeholder": "​",
            "style": "IPY_MODEL_a783f39fbb0a4f55bcf82eaf08a290ae",
            "value": "100%"
          }
        },
        "01dc3465938643429c7a9d09cea28816": {
          "model_module": "@jupyter-widgets/controls",
          "model_name": "FloatProgressModel",
          "model_module_version": "1.5.0",
          "state": {
            "_dom_classes": [],
            "_model_module": "@jupyter-widgets/controls",
            "_model_module_version": "1.5.0",
            "_model_name": "FloatProgressModel",
            "_view_count": null,
            "_view_module": "@jupyter-widgets/controls",
            "_view_module_version": "1.5.0",
            "_view_name": "ProgressView",
            "bar_style": "success",
            "description": "",
            "description_tooltip": null,
            "layout": "IPY_MODEL_a92bf2dad25a40678aa3ad21bf0e823a",
            "max": 2500,
            "min": 0,
            "orientation": "horizontal",
            "style": "IPY_MODEL_c3688f012d17475789d7b32670b71b1f",
            "value": 2500
          }
        },
        "aec2080319044746921cca70b32e2f70": {
          "model_module": "@jupyter-widgets/controls",
          "model_name": "HTMLModel",
          "model_module_version": "1.5.0",
          "state": {
            "_dom_classes": [],
            "_model_module": "@jupyter-widgets/controls",
            "_model_module_version": "1.5.0",
            "_model_name": "HTMLModel",
            "_view_count": null,
            "_view_module": "@jupyter-widgets/controls",
            "_view_module_version": "1.5.0",
            "_view_name": "HTMLView",
            "description": "",
            "description_tooltip": null,
            "layout": "IPY_MODEL_2350df9d415e4de9a8bab18eb4c7b839",
            "placeholder": "​",
            "style": "IPY_MODEL_5b94b90457414b149b794189d5f95542",
            "value": " 2500/2500 [00:00&lt;00:00, 5795.96it/s]"
          }
        },
        "c86c525ad3404a4cbe0167a77681407e": {
          "model_module": "@jupyter-widgets/base",
          "model_name": "LayoutModel",
          "model_module_version": "1.2.0",
          "state": {
            "_model_module": "@jupyter-widgets/base",
            "_model_module_version": "1.2.0",
            "_model_name": "LayoutModel",
            "_view_count": null,
            "_view_module": "@jupyter-widgets/base",
            "_view_module_version": "1.2.0",
            "_view_name": "LayoutView",
            "align_content": null,
            "align_items": null,
            "align_self": null,
            "border": null,
            "bottom": null,
            "display": null,
            "flex": null,
            "flex_flow": null,
            "grid_area": null,
            "grid_auto_columns": null,
            "grid_auto_flow": null,
            "grid_auto_rows": null,
            "grid_column": null,
            "grid_gap": null,
            "grid_row": null,
            "grid_template_areas": null,
            "grid_template_columns": null,
            "grid_template_rows": null,
            "height": null,
            "justify_content": null,
            "justify_items": null,
            "left": null,
            "margin": null,
            "max_height": null,
            "max_width": null,
            "min_height": null,
            "min_width": null,
            "object_fit": null,
            "object_position": null,
            "order": null,
            "overflow": null,
            "overflow_x": null,
            "overflow_y": null,
            "padding": null,
            "right": null,
            "top": null,
            "visibility": null,
            "width": null
          }
        },
        "ec35245e9acc4a1eb2a388dca200dba0": {
          "model_module": "@jupyter-widgets/base",
          "model_name": "LayoutModel",
          "model_module_version": "1.2.0",
          "state": {
            "_model_module": "@jupyter-widgets/base",
            "_model_module_version": "1.2.0",
            "_model_name": "LayoutModel",
            "_view_count": null,
            "_view_module": "@jupyter-widgets/base",
            "_view_module_version": "1.2.0",
            "_view_name": "LayoutView",
            "align_content": null,
            "align_items": null,
            "align_self": null,
            "border": null,
            "bottom": null,
            "display": null,
            "flex": null,
            "flex_flow": null,
            "grid_area": null,
            "grid_auto_columns": null,
            "grid_auto_flow": null,
            "grid_auto_rows": null,
            "grid_column": null,
            "grid_gap": null,
            "grid_row": null,
            "grid_template_areas": null,
            "grid_template_columns": null,
            "grid_template_rows": null,
            "height": null,
            "justify_content": null,
            "justify_items": null,
            "left": null,
            "margin": null,
            "max_height": null,
            "max_width": null,
            "min_height": null,
            "min_width": null,
            "object_fit": null,
            "object_position": null,
            "order": null,
            "overflow": null,
            "overflow_x": null,
            "overflow_y": null,
            "padding": null,
            "right": null,
            "top": null,
            "visibility": null,
            "width": null
          }
        },
        "a783f39fbb0a4f55bcf82eaf08a290ae": {
          "model_module": "@jupyter-widgets/controls",
          "model_name": "DescriptionStyleModel",
          "model_module_version": "1.5.0",
          "state": {
            "_model_module": "@jupyter-widgets/controls",
            "_model_module_version": "1.5.0",
            "_model_name": "DescriptionStyleModel",
            "_view_count": null,
            "_view_module": "@jupyter-widgets/base",
            "_view_module_version": "1.2.0",
            "_view_name": "StyleView",
            "description_width": ""
          }
        },
        "a92bf2dad25a40678aa3ad21bf0e823a": {
          "model_module": "@jupyter-widgets/base",
          "model_name": "LayoutModel",
          "model_module_version": "1.2.0",
          "state": {
            "_model_module": "@jupyter-widgets/base",
            "_model_module_version": "1.2.0",
            "_model_name": "LayoutModel",
            "_view_count": null,
            "_view_module": "@jupyter-widgets/base",
            "_view_module_version": "1.2.0",
            "_view_name": "LayoutView",
            "align_content": null,
            "align_items": null,
            "align_self": null,
            "border": null,
            "bottom": null,
            "display": null,
            "flex": null,
            "flex_flow": null,
            "grid_area": null,
            "grid_auto_columns": null,
            "grid_auto_flow": null,
            "grid_auto_rows": null,
            "grid_column": null,
            "grid_gap": null,
            "grid_row": null,
            "grid_template_areas": null,
            "grid_template_columns": null,
            "grid_template_rows": null,
            "height": null,
            "justify_content": null,
            "justify_items": null,
            "left": null,
            "margin": null,
            "max_height": null,
            "max_width": null,
            "min_height": null,
            "min_width": null,
            "object_fit": null,
            "object_position": null,
            "order": null,
            "overflow": null,
            "overflow_x": null,
            "overflow_y": null,
            "padding": null,
            "right": null,
            "top": null,
            "visibility": null,
            "width": null
          }
        },
        "c3688f012d17475789d7b32670b71b1f": {
          "model_module": "@jupyter-widgets/controls",
          "model_name": "ProgressStyleModel",
          "model_module_version": "1.5.0",
          "state": {
            "_model_module": "@jupyter-widgets/controls",
            "_model_module_version": "1.5.0",
            "_model_name": "ProgressStyleModel",
            "_view_count": null,
            "_view_module": "@jupyter-widgets/base",
            "_view_module_version": "1.2.0",
            "_view_name": "StyleView",
            "bar_color": null,
            "description_width": ""
          }
        },
        "2350df9d415e4de9a8bab18eb4c7b839": {
          "model_module": "@jupyter-widgets/base",
          "model_name": "LayoutModel",
          "model_module_version": "1.2.0",
          "state": {
            "_model_module": "@jupyter-widgets/base",
            "_model_module_version": "1.2.0",
            "_model_name": "LayoutModel",
            "_view_count": null,
            "_view_module": "@jupyter-widgets/base",
            "_view_module_version": "1.2.0",
            "_view_name": "LayoutView",
            "align_content": null,
            "align_items": null,
            "align_self": null,
            "border": null,
            "bottom": null,
            "display": null,
            "flex": null,
            "flex_flow": null,
            "grid_area": null,
            "grid_auto_columns": null,
            "grid_auto_flow": null,
            "grid_auto_rows": null,
            "grid_column": null,
            "grid_gap": null,
            "grid_row": null,
            "grid_template_areas": null,
            "grid_template_columns": null,
            "grid_template_rows": null,
            "height": null,
            "justify_content": null,
            "justify_items": null,
            "left": null,
            "margin": null,
            "max_height": null,
            "max_width": null,
            "min_height": null,
            "min_width": null,
            "object_fit": null,
            "object_position": null,
            "order": null,
            "overflow": null,
            "overflow_x": null,
            "overflow_y": null,
            "padding": null,
            "right": null,
            "top": null,
            "visibility": null,
            "width": null
          }
        },
        "5b94b90457414b149b794189d5f95542": {
          "model_module": "@jupyter-widgets/controls",
          "model_name": "DescriptionStyleModel",
          "model_module_version": "1.5.0",
          "state": {
            "_model_module": "@jupyter-widgets/controls",
            "_model_module_version": "1.5.0",
            "_model_name": "DescriptionStyleModel",
            "_view_count": null,
            "_view_module": "@jupyter-widgets/base",
            "_view_module_version": "1.2.0",
            "_view_name": "StyleView",
            "description_width": ""
          }
        },
        "08dd98e76f664f16a6b152c412a43b7f": {
          "model_module": "@jupyter-widgets/controls",
          "model_name": "HBoxModel",
          "model_module_version": "1.5.0",
          "state": {
            "_dom_classes": [],
            "_model_module": "@jupyter-widgets/controls",
            "_model_module_version": "1.5.0",
            "_model_name": "HBoxModel",
            "_view_count": null,
            "_view_module": "@jupyter-widgets/controls",
            "_view_module_version": "1.5.0",
            "_view_name": "HBoxView",
            "box_style": "",
            "children": [
              "IPY_MODEL_d6aaf0e95fdc4076877b2f7d45d05d31",
              "IPY_MODEL_fdc39a6172b04e9e8164a717409f7cab",
              "IPY_MODEL_064c7f4b681844a3b017991c2112eb74"
            ],
            "layout": "IPY_MODEL_1ac5adb4738e4a8f92224b61a5dd7dc1"
          }
        },
        "d6aaf0e95fdc4076877b2f7d45d05d31": {
          "model_module": "@jupyter-widgets/controls",
          "model_name": "HTMLModel",
          "model_module_version": "1.5.0",
          "state": {
            "_dom_classes": [],
            "_model_module": "@jupyter-widgets/controls",
            "_model_module_version": "1.5.0",
            "_model_name": "HTMLModel",
            "_view_count": null,
            "_view_module": "@jupyter-widgets/controls",
            "_view_module_version": "1.5.0",
            "_view_name": "HTMLView",
            "description": "",
            "description_tooltip": null,
            "layout": "IPY_MODEL_fc96d8ef8cf541ec9c4597a7c3805c7a",
            "placeholder": "​",
            "style": "IPY_MODEL_d309f8ae31bd4037876c19fb08d7aa69",
            "value": "100%"
          }
        },
        "fdc39a6172b04e9e8164a717409f7cab": {
          "model_module": "@jupyter-widgets/controls",
          "model_name": "FloatProgressModel",
          "model_module_version": "1.5.0",
          "state": {
            "_dom_classes": [],
            "_model_module": "@jupyter-widgets/controls",
            "_model_module_version": "1.5.0",
            "_model_name": "FloatProgressModel",
            "_view_count": null,
            "_view_module": "@jupyter-widgets/controls",
            "_view_module_version": "1.5.0",
            "_view_name": "ProgressView",
            "bar_style": "success",
            "description": "",
            "description_tooltip": null,
            "layout": "IPY_MODEL_e1c06f143cf4429cab9ab94c02f1596f",
            "max": 2500,
            "min": 0,
            "orientation": "horizontal",
            "style": "IPY_MODEL_8855fd38ea3545f49bd60cdf393de3f1",
            "value": 2500
          }
        },
        "064c7f4b681844a3b017991c2112eb74": {
          "model_module": "@jupyter-widgets/controls",
          "model_name": "HTMLModel",
          "model_module_version": "1.5.0",
          "state": {
            "_dom_classes": [],
            "_model_module": "@jupyter-widgets/controls",
            "_model_module_version": "1.5.0",
            "_model_name": "HTMLModel",
            "_view_count": null,
            "_view_module": "@jupyter-widgets/controls",
            "_view_module_version": "1.5.0",
            "_view_name": "HTMLView",
            "description": "",
            "description_tooltip": null,
            "layout": "IPY_MODEL_edf9ff2351144132b6e792242f93c77e",
            "placeholder": "​",
            "style": "IPY_MODEL_433d0454a7574d5cbc840dc6c8d9c24d",
            "value": " 2500/2500 [00:00&lt;00:00, 6915.82it/s]"
          }
        },
        "1ac5adb4738e4a8f92224b61a5dd7dc1": {
          "model_module": "@jupyter-widgets/base",
          "model_name": "LayoutModel",
          "model_module_version": "1.2.0",
          "state": {
            "_model_module": "@jupyter-widgets/base",
            "_model_module_version": "1.2.0",
            "_model_name": "LayoutModel",
            "_view_count": null,
            "_view_module": "@jupyter-widgets/base",
            "_view_module_version": "1.2.0",
            "_view_name": "LayoutView",
            "align_content": null,
            "align_items": null,
            "align_self": null,
            "border": null,
            "bottom": null,
            "display": null,
            "flex": null,
            "flex_flow": null,
            "grid_area": null,
            "grid_auto_columns": null,
            "grid_auto_flow": null,
            "grid_auto_rows": null,
            "grid_column": null,
            "grid_gap": null,
            "grid_row": null,
            "grid_template_areas": null,
            "grid_template_columns": null,
            "grid_template_rows": null,
            "height": null,
            "justify_content": null,
            "justify_items": null,
            "left": null,
            "margin": null,
            "max_height": null,
            "max_width": null,
            "min_height": null,
            "min_width": null,
            "object_fit": null,
            "object_position": null,
            "order": null,
            "overflow": null,
            "overflow_x": null,
            "overflow_y": null,
            "padding": null,
            "right": null,
            "top": null,
            "visibility": null,
            "width": null
          }
        },
        "fc96d8ef8cf541ec9c4597a7c3805c7a": {
          "model_module": "@jupyter-widgets/base",
          "model_name": "LayoutModel",
          "model_module_version": "1.2.0",
          "state": {
            "_model_module": "@jupyter-widgets/base",
            "_model_module_version": "1.2.0",
            "_model_name": "LayoutModel",
            "_view_count": null,
            "_view_module": "@jupyter-widgets/base",
            "_view_module_version": "1.2.0",
            "_view_name": "LayoutView",
            "align_content": null,
            "align_items": null,
            "align_self": null,
            "border": null,
            "bottom": null,
            "display": null,
            "flex": null,
            "flex_flow": null,
            "grid_area": null,
            "grid_auto_columns": null,
            "grid_auto_flow": null,
            "grid_auto_rows": null,
            "grid_column": null,
            "grid_gap": null,
            "grid_row": null,
            "grid_template_areas": null,
            "grid_template_columns": null,
            "grid_template_rows": null,
            "height": null,
            "justify_content": null,
            "justify_items": null,
            "left": null,
            "margin": null,
            "max_height": null,
            "max_width": null,
            "min_height": null,
            "min_width": null,
            "object_fit": null,
            "object_position": null,
            "order": null,
            "overflow": null,
            "overflow_x": null,
            "overflow_y": null,
            "padding": null,
            "right": null,
            "top": null,
            "visibility": null,
            "width": null
          }
        },
        "d309f8ae31bd4037876c19fb08d7aa69": {
          "model_module": "@jupyter-widgets/controls",
          "model_name": "DescriptionStyleModel",
          "model_module_version": "1.5.0",
          "state": {
            "_model_module": "@jupyter-widgets/controls",
            "_model_module_version": "1.5.0",
            "_model_name": "DescriptionStyleModel",
            "_view_count": null,
            "_view_module": "@jupyter-widgets/base",
            "_view_module_version": "1.2.0",
            "_view_name": "StyleView",
            "description_width": ""
          }
        },
        "e1c06f143cf4429cab9ab94c02f1596f": {
          "model_module": "@jupyter-widgets/base",
          "model_name": "LayoutModel",
          "model_module_version": "1.2.0",
          "state": {
            "_model_module": "@jupyter-widgets/base",
            "_model_module_version": "1.2.0",
            "_model_name": "LayoutModel",
            "_view_count": null,
            "_view_module": "@jupyter-widgets/base",
            "_view_module_version": "1.2.0",
            "_view_name": "LayoutView",
            "align_content": null,
            "align_items": null,
            "align_self": null,
            "border": null,
            "bottom": null,
            "display": null,
            "flex": null,
            "flex_flow": null,
            "grid_area": null,
            "grid_auto_columns": null,
            "grid_auto_flow": null,
            "grid_auto_rows": null,
            "grid_column": null,
            "grid_gap": null,
            "grid_row": null,
            "grid_template_areas": null,
            "grid_template_columns": null,
            "grid_template_rows": null,
            "height": null,
            "justify_content": null,
            "justify_items": null,
            "left": null,
            "margin": null,
            "max_height": null,
            "max_width": null,
            "min_height": null,
            "min_width": null,
            "object_fit": null,
            "object_position": null,
            "order": null,
            "overflow": null,
            "overflow_x": null,
            "overflow_y": null,
            "padding": null,
            "right": null,
            "top": null,
            "visibility": null,
            "width": null
          }
        },
        "8855fd38ea3545f49bd60cdf393de3f1": {
          "model_module": "@jupyter-widgets/controls",
          "model_name": "ProgressStyleModel",
          "model_module_version": "1.5.0",
          "state": {
            "_model_module": "@jupyter-widgets/controls",
            "_model_module_version": "1.5.0",
            "_model_name": "ProgressStyleModel",
            "_view_count": null,
            "_view_module": "@jupyter-widgets/base",
            "_view_module_version": "1.2.0",
            "_view_name": "StyleView",
            "bar_color": null,
            "description_width": ""
          }
        },
        "edf9ff2351144132b6e792242f93c77e": {
          "model_module": "@jupyter-widgets/base",
          "model_name": "LayoutModel",
          "model_module_version": "1.2.0",
          "state": {
            "_model_module": "@jupyter-widgets/base",
            "_model_module_version": "1.2.0",
            "_model_name": "LayoutModel",
            "_view_count": null,
            "_view_module": "@jupyter-widgets/base",
            "_view_module_version": "1.2.0",
            "_view_name": "LayoutView",
            "align_content": null,
            "align_items": null,
            "align_self": null,
            "border": null,
            "bottom": null,
            "display": null,
            "flex": null,
            "flex_flow": null,
            "grid_area": null,
            "grid_auto_columns": null,
            "grid_auto_flow": null,
            "grid_auto_rows": null,
            "grid_column": null,
            "grid_gap": null,
            "grid_row": null,
            "grid_template_areas": null,
            "grid_template_columns": null,
            "grid_template_rows": null,
            "height": null,
            "justify_content": null,
            "justify_items": null,
            "left": null,
            "margin": null,
            "max_height": null,
            "max_width": null,
            "min_height": null,
            "min_width": null,
            "object_fit": null,
            "object_position": null,
            "order": null,
            "overflow": null,
            "overflow_x": null,
            "overflow_y": null,
            "padding": null,
            "right": null,
            "top": null,
            "visibility": null,
            "width": null
          }
        },
        "433d0454a7574d5cbc840dc6c8d9c24d": {
          "model_module": "@jupyter-widgets/controls",
          "model_name": "DescriptionStyleModel",
          "model_module_version": "1.5.0",
          "state": {
            "_model_module": "@jupyter-widgets/controls",
            "_model_module_version": "1.5.0",
            "_model_name": "DescriptionStyleModel",
            "_view_count": null,
            "_view_module": "@jupyter-widgets/base",
            "_view_module_version": "1.2.0",
            "_view_name": "StyleView",
            "description_width": ""
          }
        }
      }
    },
    "accelerator": "GPU"
  },
  "cells": [
    {
      "cell_type": "markdown",
      "metadata": {
        "id": "view-in-github",
        "colab_type": "text"
      },
      "source": [
        "<a href=\"https://colab.research.google.com/github/sahandfrd94/Image-classification-by-keras/blob/main/Image_classification_by_keras.ipynb\" target=\"_parent\"><img src=\"https://colab.research.google.com/assets/colab-badge.svg\" alt=\"Open In Colab\"/></a>"
      ]
    },
    {
      "cell_type": "markdown",
      "source": [
        "#Import dataset"
      ],
      "metadata": {
        "id": "l-d3qNGd7fbR"
      }
    },
    {
      "cell_type": "code",
      "execution_count": 1,
      "metadata": {
        "id": "P0kgsChT1iQz",
        "colab": {
          "base_uri": "https://localhost:8080/"
        },
        "outputId": "582db955-4017-42af-d34f-5e145d6e3ceb"
      },
      "outputs": [
        {
          "output_type": "stream",
          "name": "stdout",
          "text": [
            "--2024-02-04 22:18:55--  https://download.microsoft.com/download/3/E/1/3E1C3F21-ECDB-4869-8368-6DEBA77B919F/kagglecatsanddogs_5340.zip\n",
            "Resolving download.microsoft.com (download.microsoft.com)... 23.44.78.15, 2600:1407:7400:489::317f, 2600:1407:7400:481::317f\n",
            "Connecting to download.microsoft.com (download.microsoft.com)|23.44.78.15|:443... connected.\n",
            "HTTP request sent, awaiting response... 200 OK\n",
            "Length: 824887076 (787M) [application/octet-stream]\n",
            "Saving to: ‘kagglecatsanddogs_5340.zip’\n",
            "\n",
            "kagglecatsanddogs_5 100%[===================>] 786.67M   118MB/s    in 8.7s    \n",
            "\n",
            "2024-02-04 22:19:04 (90.0 MB/s) - ‘kagglecatsanddogs_5340.zip’ saved [824887076/824887076]\n",
            "\n"
          ]
        }
      ],
      "source": [
        "!wget https://download.microsoft.com/download/3/E/1/3E1C3F21-ECDB-4869-8368-6DEBA77B919F/kagglecatsanddogs_5340.zip\n"
      ]
    },
    {
      "cell_type": "code",
      "source": [
        "! unzip -qx /content/kagglecatsanddogs_5340.zip"
      ],
      "metadata": {
        "id": "-GTW1yML7Eem"
      },
      "execution_count": 2,
      "outputs": []
    },
    {
      "cell_type": "code",
      "source": [
        "#removing empty files\n",
        "from tqdm.notebook import tqdm\n",
        "from glob import glob as g\n",
        "import os\n",
        "count = 0\n",
        "for name in tqdm(g('/content/PetImages/*/*')):\n",
        "\n",
        "  if not os.path.getsize(name):\n",
        "    count += 1\n",
        "    os.remove(name)\n",
        "print(count, ' empty files removed')"
      ],
      "metadata": {
        "colab": {
          "base_uri": "https://localhost:8080/",
          "height": 67,
          "referenced_widgets": [
            "78a1ec79def04d959fa3916d8ec4f2b4",
            "2622fd8fb1f14a25998c50cd36e57359",
            "4445a235ae92452eaafcc75d569eafd0",
            "5fcc3da14b0342929c02c00e9b5f6a68",
            "4f304f1026054618add65b3aaedef150",
            "b92b0c8b605c4bf9bef570e8eaae8d61",
            "453d21c4c5d545fa964de5e590949ace",
            "470e6a99b29c4430a9d974dc05675511",
            "c10f3934e99c4d24a4f838892f630327",
            "5b8a7b3fff47461d970c5fc2a0edf0a7",
            "f23deaa08db44693a8750303415011aa"
          ]
        },
        "id": "xQc8ekzq7Z02",
        "outputId": "f538249d-2283-4f7f-8874-88fd7e0ca163"
      },
      "execution_count": 3,
      "outputs": [
        {
          "output_type": "display_data",
          "data": {
            "text/plain": [
              "  0%|          | 0/25002 [00:00<?, ?it/s]"
            ],
            "application/vnd.jupyter.widget-view+json": {
              "version_major": 2,
              "version_minor": 0,
              "model_id": "78a1ec79def04d959fa3916d8ec4f2b4"
            }
          },
          "metadata": {}
        },
        {
          "output_type": "stream",
          "name": "stdout",
          "text": [
            "2  empty files removed\n"
          ]
        }
      ]
    },
    {
      "cell_type": "markdown",
      "source": [
        "# Create train & test data"
      ],
      "metadata": {
        "id": "4cIyJZi2CC_r"
      }
    },
    {
      "cell_type": "code",
      "source": [
        "cat_train_loc = '/content/CAT & DOG/train/cat'\n",
        "cat_val_loc = '/content/CAT & DOG/validation/cat'\n",
        "dog_train_loc = '/content/CAT & DOG/train/dog'\n",
        "dog_val_loc = '/content/CAT & DOG/validation/dog'\n",
        "\n",
        "data_locations = [cat_train_loc,cat_val_loc,dog_train_loc,dog_val_loc]\n",
        "for loc in data_locations:\n",
        "  os.makedirs(loc)\n"
      ],
      "metadata": {
        "id": "u6_FMBwv9Zwy"
      },
      "execution_count": 4,
      "outputs": []
    },
    {
      "cell_type": "code",
      "source": [
        "# take the addres of all image\n",
        "cats = sorted(g('/content/PetImages/Cat/*'))\n",
        "dogs = sorted(g('/content/PetImages/Dog/*'))"
      ],
      "metadata": {
        "id": "Ng1mHCRADkvP"
      },
      "execution_count": 5,
      "outputs": []
    },
    {
      "cell_type": "code",
      "source": [
        "from sklearn.model_selection import train_test_split\n",
        "cat_train , cat_test = train_test_split(cats , test_size = 0.2 , random_state = 101 , shuffle = True)\n",
        "dog_train , dog_test = train_test_split(dogs , test_size = 0.2 , random_state = 101 , shuffle = True)"
      ],
      "metadata": {
        "id": "YIGsCcrrFLX9"
      },
      "execution_count": 6,
      "outputs": []
    },
    {
      "cell_type": "code",
      "source": [
        "# import images in locations\n",
        "from shutil import copy"
      ],
      "metadata": {
        "id": "In0h06PiE-f5"
      },
      "execution_count": 7,
      "outputs": []
    },
    {
      "cell_type": "code",
      "source": [
        "for img in tqdm(cat_train):\n",
        "  copy(img ,cat_train_loc )\n",
        "for img in tqdm(dog_train):\n",
        "  copy(img , dog_train_loc)\n",
        "for img in tqdm(cat_test):\n",
        "  copy(img , cat_val_loc)\n",
        "for img in tqdm(dog_test):\n",
        "  copy(img , dog_val_loc)"
      ],
      "metadata": {
        "id": "GDGeSRcDI12j",
        "colab": {
          "base_uri": "https://localhost:8080/",
          "height": 145,
          "referenced_widgets": [
            "487d83e90cab477a978c79e8fe134d06",
            "783f7dda423742b8802b70c5be567f00",
            "417a05de185245bda5a2f1abade47297",
            "282a065db27e48afadbdad8dc5881d9b",
            "e6833861b3ab443e9c9b378561319e6b",
            "e3e5797bbc024616814f98431c3cb4a1",
            "8c081cf324e440559e0e3ab30829a6bc",
            "f4c530e068674e0f953f1d7faa72edd2",
            "7c3c16920a0e46a294c739fad23cc401",
            "11ab4ca1da4c40a3a47b05dacb7fddc7",
            "ac3dc85bba864799894b0fc6ce7ebff0",
            "d1c4867e503f430ea0a8a04055690317",
            "4c29c7bfb93a463ca325f275f9654d65",
            "95de72cd2e2f4466b0d1c0ea0706db21",
            "b37aa1dccd60473db1e82c96e4d03568",
            "fa10b0e334f64f99975e71819394c3ae",
            "6ce4fba623704a9e9bea4556c331da65",
            "4d67ce83c4f04ef3ad267abbbbc52d07",
            "240bea02604c48c9a30527236abeb33f",
            "68bab52b2ba947d181ae156bd8711c38",
            "51b5d598ac084d488a51440751478fe1",
            "cb69f92341b349b69a6e6dbde4beef95",
            "741e9a516ef6476ba0a4a81b1cf82316",
            "d921f3a76f774187bed2dac239d643c9",
            "01dc3465938643429c7a9d09cea28816",
            "aec2080319044746921cca70b32e2f70",
            "c86c525ad3404a4cbe0167a77681407e",
            "ec35245e9acc4a1eb2a388dca200dba0",
            "a783f39fbb0a4f55bcf82eaf08a290ae",
            "a92bf2dad25a40678aa3ad21bf0e823a",
            "c3688f012d17475789d7b32670b71b1f",
            "2350df9d415e4de9a8bab18eb4c7b839",
            "5b94b90457414b149b794189d5f95542",
            "08dd98e76f664f16a6b152c412a43b7f",
            "d6aaf0e95fdc4076877b2f7d45d05d31",
            "fdc39a6172b04e9e8164a717409f7cab",
            "064c7f4b681844a3b017991c2112eb74",
            "1ac5adb4738e4a8f92224b61a5dd7dc1",
            "fc96d8ef8cf541ec9c4597a7c3805c7a",
            "d309f8ae31bd4037876c19fb08d7aa69",
            "e1c06f143cf4429cab9ab94c02f1596f",
            "8855fd38ea3545f49bd60cdf393de3f1",
            "edf9ff2351144132b6e792242f93c77e",
            "433d0454a7574d5cbc840dc6c8d9c24d"
          ]
        },
        "outputId": "d08f20f1-0b5e-4b99-ff89-6bf803e27791"
      },
      "execution_count": 8,
      "outputs": [
        {
          "output_type": "display_data",
          "data": {
            "text/plain": [
              "  0%|          | 0/10000 [00:00<?, ?it/s]"
            ],
            "application/vnd.jupyter.widget-view+json": {
              "version_major": 2,
              "version_minor": 0,
              "model_id": "487d83e90cab477a978c79e8fe134d06"
            }
          },
          "metadata": {}
        },
        {
          "output_type": "display_data",
          "data": {
            "text/plain": [
              "  0%|          | 0/10000 [00:00<?, ?it/s]"
            ],
            "application/vnd.jupyter.widget-view+json": {
              "version_major": 2,
              "version_minor": 0,
              "model_id": "d1c4867e503f430ea0a8a04055690317"
            }
          },
          "metadata": {}
        },
        {
          "output_type": "display_data",
          "data": {
            "text/plain": [
              "  0%|          | 0/2500 [00:00<?, ?it/s]"
            ],
            "application/vnd.jupyter.widget-view+json": {
              "version_major": 2,
              "version_minor": 0,
              "model_id": "741e9a516ef6476ba0a4a81b1cf82316"
            }
          },
          "metadata": {}
        },
        {
          "output_type": "display_data",
          "data": {
            "text/plain": [
              "  0%|          | 0/2500 [00:00<?, ?it/s]"
            ],
            "application/vnd.jupyter.widget-view+json": {
              "version_major": 2,
              "version_minor": 0,
              "model_id": "08dd98e76f664f16a6b152c412a43b7f"
            }
          },
          "metadata": {}
        }
      ]
    },
    {
      "cell_type": "code",
      "source": [
        "print(len(os.listdir(cat_train_loc)))\n",
        "print(len(os.listdir(cat_val_loc)))\n",
        "print(len(os.listdir(dog_train_loc)))\n",
        "print(len(os.listdir(dog_val_loc)))"
      ],
      "metadata": {
        "id": "T3SoE144bPQ0",
        "colab": {
          "base_uri": "https://localhost:8080/"
        },
        "outputId": "ac6eea95-13cf-4813-cf78-f9895e463434"
      },
      "execution_count": 9,
      "outputs": [
        {
          "output_type": "stream",
          "name": "stdout",
          "text": [
            "10000\n",
            "2500\n",
            "10000\n",
            "2500\n"
          ]
        }
      ]
    },
    {
      "cell_type": "code",
      "source": [
        "from  tensorflow.keras.preprocessing.image import ImageDataGenerator\n",
        "train_scaler = ImageDataGenerator(rescale = 1/255)\n",
        "train_gen = train_scaler.flow_from_directory(\n",
        "    '/content/CAT & DOG/train',\n",
        "    batch_size = 64,\n",
        "    class_mode= 'binary',\n",
        "    target_size = (160,160)\n",
        ")\n",
        "\n",
        "test_scaler  = ImageDataGenerator(rescale = 1/255)\n",
        "val_gen = test_scaler.flow_from_directory(\n",
        "    '/content/CAT & DOG/validation',\n",
        "    batch_size = 64,\n",
        "    class_mode = 'binary',\n",
        "    target_size  = (160 , 160)\n",
        "\n",
        ")"
      ],
      "metadata": {
        "id": "RWI5mBqBLYR5",
        "colab": {
          "base_uri": "https://localhost:8080/"
        },
        "outputId": "c75cdb84-83d6-4cd9-b915-c23926ac292c"
      },
      "execution_count": 10,
      "outputs": [
        {
          "output_type": "stream",
          "name": "stdout",
          "text": [
            "Found 19998 images belonging to 2 classes.\n",
            "Found 5000 images belonging to 2 classes.\n"
          ]
        }
      ]
    },
    {
      "cell_type": "markdown",
      "source": [
        "# Creat CNN model"
      ],
      "metadata": {
        "id": "XXTmEP2CUCUL"
      }
    },
    {
      "cell_type": "code",
      "source": [
        "from keras.models import Sequential\n",
        "from keras.layers import Dense , Dropout , MaxPool2D , Flatten , Conv2D"
      ],
      "metadata": {
        "id": "7Khu00IIT-yJ"
      },
      "execution_count": 11,
      "outputs": []
    },
    {
      "cell_type": "code",
      "source": [],
      "metadata": {
        "id": "5ju0KxscUB5M"
      },
      "execution_count": 11,
      "outputs": []
    },
    {
      "cell_type": "code",
      "source": [
        "out_put = next(train_gen)"
      ],
      "metadata": {
        "id": "VTvaQ6fIVSlp"
      },
      "execution_count": 12,
      "outputs": []
    },
    {
      "cell_type": "code",
      "source": [
        "out_put[0].shape"
      ],
      "metadata": {
        "id": "ju9viivvVaWc",
        "colab": {
          "base_uri": "https://localhost:8080/"
        },
        "outputId": "495e4a8d-7326-4c31-bde2-b23459aa7446"
      },
      "execution_count": 13,
      "outputs": [
        {
          "output_type": "execute_result",
          "data": {
            "text/plain": [
              "(64, 160, 160, 3)"
            ]
          },
          "metadata": {},
          "execution_count": 13
        }
      ]
    },
    {
      "cell_type": "code",
      "source": [
        "print(val_gen.class_indices)"
      ],
      "metadata": {
        "id": "EV_lrpKYWBD8",
        "colab": {
          "base_uri": "https://localhost:8080/"
        },
        "outputId": "5c6017de-7563-47b4-8ef7-eb110554c977"
      },
      "execution_count": 14,
      "outputs": [
        {
          "output_type": "stream",
          "name": "stdout",
          "text": [
            "{'cat': 0, 'dog': 1}\n"
          ]
        }
      ]
    },
    {
      "cell_type": "code",
      "source": [
        "model = Sequential()\n",
        "model.add(Conv2D(64, (3,3), activation = 'relu', input_shape = (160,160,3), padding = 'same', kernel_initializer = 'he_uniform'))\n",
        "model.add(Conv2D(64, (4,4), activation = 'relu', padding = 'same', kernel_initializer = 'he_uniform'))\n",
        "\n",
        "model.add(Dropout(0.2))\n",
        "model.add(MaxPool2D(2,2))\n",
        "\n",
        "model.add(Conv2D(128, (3,3), activation = 'relu', padding = 'same', kernel_initializer = 'he_uniform'))\n",
        "model.add(Conv2D(128, (3,3), activation = 'relu', padding = 'same', kernel_initializer = 'he_uniform'))\n",
        "\n",
        "\n",
        "model.add(Dropout(0.2))\n",
        "model.add(MaxPool2D(2,2))\n",
        "\n",
        "model.add(Conv2D(256, (3,3), activation = 'relu', padding = 'same', kernel_initializer = 'he_uniform'))\n",
        "model.add(Conv2D(256, (3,3), activation = 'relu', padding = 'same', kernel_initializer = 'he_uniform'))\n",
        "\n",
        "model.add(Dropout(0.3))\n",
        "model.add(MaxPool2D(2,2))\n",
        "\n",
        "model.add(Flatten())\n",
        "\n",
        "model.add(Dense(128, activation = 'relu'))\n",
        "model.add(Dropout(0.2))\n",
        "model.add(Dense(1, activation = 'sigmoid'))"
      ],
      "metadata": {
        "id": "qqBuHkJJQ-xv"
      },
      "execution_count": 15,
      "outputs": []
    },
    {
      "cell_type": "code",
      "source": [
        "model.compile(loss = 'binary_crossentropy' , metrics=['accuracy'] , optimizer = 'adam')"
      ],
      "metadata": {
        "id": "ZX5mCLS6Ye08"
      },
      "execution_count": 16,
      "outputs": []
    },
    {
      "cell_type": "code",
      "source": [
        "history = model.fit(\n",
        "    train_gen,\n",
        "    epochs = 30,\n",
        "    batch_size  = 128,\n",
        "    verbose = 1,\n",
        "    validation_data = val_gen\n",
        ")"
      ],
      "metadata": {
        "id": "hybQ0NybYwBO",
        "colab": {
          "base_uri": "https://localhost:8080/"
        },
        "outputId": "734bae7b-c96a-4389-97f1-acdf0abb3e7f"
      },
      "execution_count": 17,
      "outputs": [
        {
          "output_type": "stream",
          "name": "stdout",
          "text": [
            "Epoch 1/30\n",
            "313/313 [==============================] - ETA: 0s - loss: 1.2930 - accuracy: 0.5363"
          ]
        },
        {
          "output_type": "stream",
          "name": "stderr",
          "text": [
            "/usr/local/lib/python3.10/dist-packages/PIL/TiffImagePlugin.py:858: UserWarning: Truncated File Read\n",
            "  warnings.warn(str(msg))\n"
          ]
        },
        {
          "output_type": "stream",
          "name": "stdout",
          "text": [
            "\b\b\b\b\b\b\b\b\b\b\b\b\b\b\b\b\b\b\b\b\b\b\b\b\b\b\b\b\b\b\b\b\b\b\b\b\b\b\b\b\b\b\b\b\b\b\b\b\b\b\b\b\b\b\b\b\b\b\b\b\b\b\b\b\b\b\b\b\b\b\b\b\b\b\b\b\b\b\b\b\b\b\b\b\r313/313 [==============================] - 174s 482ms/step - loss: 1.2930 - accuracy: 0.5363 - val_loss: 0.6926 - val_accuracy: 0.5108\n",
            "Epoch 2/30\n",
            "313/313 [==============================] - 138s 440ms/step - loss: 0.7215 - accuracy: 0.5211 - val_loss: 0.6890 - val_accuracy: 0.5070\n",
            "Epoch 3/30\n",
            "313/313 [==============================] - 139s 445ms/step - loss: 0.6640 - accuracy: 0.6050 - val_loss: 0.6396 - val_accuracy: 0.6450\n",
            "Epoch 4/30\n",
            "313/313 [==============================] - 139s 444ms/step - loss: 0.6099 - accuracy: 0.6734 - val_loss: 0.6280 - val_accuracy: 0.6632\n",
            "Epoch 5/30\n",
            "313/313 [==============================] - 139s 445ms/step - loss: 0.5523 - accuracy: 0.7202 - val_loss: 0.5376 - val_accuracy: 0.7474\n",
            "Epoch 6/30\n",
            "313/313 [==============================] - 140s 447ms/step - loss: 0.4884 - accuracy: 0.7686 - val_loss: 0.5221 - val_accuracy: 0.7678\n",
            "Epoch 7/30\n",
            "313/313 [==============================] - 141s 449ms/step - loss: 0.4273 - accuracy: 0.8054 - val_loss: 0.4826 - val_accuracy: 0.7816\n",
            "Epoch 8/30\n",
            "313/313 [==============================] - 140s 448ms/step - loss: 0.3709 - accuracy: 0.8339 - val_loss: 0.4156 - val_accuracy: 0.8140\n",
            "Epoch 9/30\n",
            "313/313 [==============================] - 140s 448ms/step - loss: 0.3182 - accuracy: 0.8599 - val_loss: 0.4301 - val_accuracy: 0.8074\n",
            "Epoch 10/30\n",
            "313/313 [==============================] - 141s 449ms/step - loss: 0.2650 - accuracy: 0.8891 - val_loss: 0.4138 - val_accuracy: 0.8120\n",
            "Epoch 11/30\n",
            "313/313 [==============================] - 141s 449ms/step - loss: 0.2081 - accuracy: 0.9131 - val_loss: 0.4223 - val_accuracy: 0.8112\n",
            "Epoch 12/30\n",
            "313/313 [==============================] - 141s 449ms/step - loss: 0.1742 - accuracy: 0.9294 - val_loss: 0.4387 - val_accuracy: 0.8150\n",
            "Epoch 13/30\n",
            "313/313 [==============================] - 140s 448ms/step - loss: 0.1497 - accuracy: 0.9417 - val_loss: 0.4711 - val_accuracy: 0.8074\n",
            "Epoch 14/30\n",
            "313/313 [==============================] - 141s 449ms/step - loss: 0.1314 - accuracy: 0.9497 - val_loss: 0.5255 - val_accuracy: 0.7962\n",
            "Epoch 15/30\n",
            "313/313 [==============================] - 140s 448ms/step - loss: 0.1102 - accuracy: 0.9593 - val_loss: 0.4722 - val_accuracy: 0.8320\n",
            "Epoch 16/30\n",
            "313/313 [==============================] - 140s 447ms/step - loss: 0.0889 - accuracy: 0.9679 - val_loss: 0.4828 - val_accuracy: 0.8268\n",
            "Epoch 17/30\n",
            "313/313 [==============================] - 140s 447ms/step - loss: 0.0997 - accuracy: 0.9635 - val_loss: 0.4759 - val_accuracy: 0.8222\n",
            "Epoch 18/30\n",
            "313/313 [==============================] - 140s 446ms/step - loss: 0.0793 - accuracy: 0.9711 - val_loss: 0.4791 - val_accuracy: 0.8322\n",
            "Epoch 19/30\n",
            "313/313 [==============================] - 140s 446ms/step - loss: 0.0732 - accuracy: 0.9734 - val_loss: 0.4850 - val_accuracy: 0.8316\n",
            "Epoch 20/30\n",
            "313/313 [==============================] - 140s 447ms/step - loss: 0.0683 - accuracy: 0.9752 - val_loss: 0.5236 - val_accuracy: 0.8152\n",
            "Epoch 21/30\n",
            "313/313 [==============================] - 140s 446ms/step - loss: 0.0666 - accuracy: 0.9769 - val_loss: 0.5763 - val_accuracy: 0.8160\n",
            "Epoch 22/30\n",
            "313/313 [==============================] - 140s 446ms/step - loss: 0.0673 - accuracy: 0.9751 - val_loss: 0.4603 - val_accuracy: 0.8258\n",
            "Epoch 23/30\n",
            "313/313 [==============================] - 139s 445ms/step - loss: 0.0573 - accuracy: 0.9805 - val_loss: 0.4755 - val_accuracy: 0.8304\n",
            "Epoch 24/30\n",
            "313/313 [==============================] - 140s 446ms/step - loss: 0.0567 - accuracy: 0.9799 - val_loss: 0.5282 - val_accuracy: 0.8306\n",
            "Epoch 25/30\n",
            "313/313 [==============================] - 139s 445ms/step - loss: 0.0570 - accuracy: 0.9809 - val_loss: 0.6576 - val_accuracy: 0.8076\n",
            "Epoch 26/30\n",
            "313/313 [==============================] - 139s 444ms/step - loss: 0.0536 - accuracy: 0.9812 - val_loss: 0.6160 - val_accuracy: 0.8296\n",
            "Epoch 27/30\n",
            "313/313 [==============================] - 140s 446ms/step - loss: 0.0548 - accuracy: 0.9813 - val_loss: 0.4935 - val_accuracy: 0.8246\n",
            "Epoch 28/30\n",
            "313/313 [==============================] - 140s 446ms/step - loss: 0.0540 - accuracy: 0.9809 - val_loss: 0.5639 - val_accuracy: 0.8142\n",
            "Epoch 29/30\n",
            "313/313 [==============================] - 141s 449ms/step - loss: 0.0444 - accuracy: 0.9858 - val_loss: 0.5701 - val_accuracy: 0.8208\n",
            "Epoch 30/30\n",
            "313/313 [==============================] - 140s 447ms/step - loss: 0.0436 - accuracy: 0.9851 - val_loss: 0.5576 - val_accuracy: 0.8328\n"
          ]
        }
      ]
    }
  ]
}